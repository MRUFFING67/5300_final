{
 "cells": [
  {
   "cell_type": "markdown",
   "metadata": {},
   "source": [
    "# Orbiting bodies solutions\n",
    "\n"
   ]
  },
  {
   "cell_type": "code",
   "execution_count": 1,
   "metadata": {},
   "outputs": [],
   "source": [
    "import numpy as np\n",
    "import matplotlib.pyplot as plt\n",
    "from scipy.integrate import solve_ivp"
   ]
  },
  {
   "cell_type": "code",
   "execution_count": 2,
   "metadata": {},
   "outputs": [],
   "source": [
    "# Change the common font size\n",
    "font_size = 14\n",
    "plt.rcParams.update({'font.size': font_size})"
   ]
  },
  {
   "cell_type": "code",
   "execution_count": 15,
   "metadata": {
    "code_folding": []
   },
   "outputs": [],
   "source": [
    "class Orbits:\n",
    "    \n",
    "    def __init__(self, m1, m2,G):\n",
    "        self.m1 = m1\n",
    "        self.m2 = m2\n",
    "        self.mu = m1*m2/(m1+m2)\n",
    "        self.G = G\n",
    "        \n",
    "    def dy_dt(self, t, y):\n",
    "        \"\"\"\n",
    "        This function returns the right-hand side of the diffeq: \n",
    "        \n",
    "        Parameters\n",
    "        ----------\n",
    "        t : float\n",
    "            time \n",
    "        y : float\n",
    "            8-component vector with y[0] = x1, y[1] = dx1/dt,\n",
    "                                    y[2] = x2, y[3] = dx2/dt,\n",
    "                                    y[4] = y1, y[5] = dy1/dt,\n",
    "                                    y[6] = y2, y[7] = dy2/dt,\n",
    "            \n",
    "        \"\"\"\n",
    "        return [ y[1],\n",
    "                -1*self.G*self.m2*(y[2]-y[0])/((y[2]-y[0])**3),\n",
    "                y[3],\n",
    "                -1*self.G*self.m1*(y[0]-y[2])/((y[2]-y[0])**3),\n",
    "                y[5],\n",
    "                -1*self.G*self.m2*(y[6]-y[4])/((y[6]-y[4])**3),\n",
    "                y[7],\n",
    "                -1*self.G*self.m1*(y[4]-y[6])/((y[4]-y[6])**3) ]\n",
    "    \n",
    "    \n",
    "    def solve_ode(self, t_pts, x1_0, x1_dot_0,\n",
    "                               x2_0, x2_dot_0,\n",
    "                               y1_0, y1_dot_0,\n",
    "                               y2_0, y2_dot_0,\n",
    "                  method='RK23',\n",
    "                  abserr=1.0e-8, relerr=1.0e-8):\n",
    "        \"\"\"\n",
    "        Solve the ODE given initial conditions.\n",
    "        Use solve_ivp with the option of specifying the method.\n",
    "        Specify smaller abserr and relerr to get more precision.\n",
    "        \"\"\"\n",
    "        y = [ x1_0, x1_dot_0,\n",
    "              x2_0, x2_dot_0,\n",
    "              y1_0, y1_dot_0,\n",
    "              y2_0, y2_dot_0 ]\n",
    "        \n",
    "        solution = solve_ivp(self.dy_dt, (t_pts[0], t_pts[-1]), \n",
    "                             y, t_eval=t_pts, method=method, \n",
    "                             atol=abserr, rtol=relerr)\n",
    "        x1,x1_dot,x2,x2_dot,y1,y1_dot,y2,y2_dot = solution.y\n",
    "        return x1,x1_dot,x2,x2_dot,y1,y1_dot,y2,y2_dot"
   ]
  },
  {
   "cell_type": "code",
   "execution_count": 16,
   "metadata": {},
   "outputs": [],
   "source": [
    "def start_stop_indices(t_pts, plot_start, plot_stop):\n",
    "    start_index = (np.fabs(t_pts-plot_start)).argmin()  # index in t_pts array \n",
    "    stop_index = (np.fabs(t_pts-plot_stop)).argmin()  # index in t_pts array \n",
    "    return start_index, stop_index"
   ]
  },
  {
   "cell_type": "markdown",
   "metadata": {},
   "source": [
    "# Define the Orbiting Bodies"
   ]
  },
  {
   "cell_type": "code",
   "execution_count": 17,
   "metadata": {},
   "outputs": [],
   "source": [
    "m1 = 1.\n",
    "m2 = 1.\n",
    "G = 1.\n",
    "o1 = Orbits(m1,m2,G)"
   ]
  },
  {
   "cell_type": "markdown",
   "metadata": {},
   "source": [
    "## Plot orbit"
   ]
  },
  {
   "cell_type": "code",
   "execution_count": 19,
   "metadata": {},
   "outputs": [
    {
     "name": "stderr",
     "output_type": "stream",
     "text": [
      "D:\\Programs\\Jupyter\\lib\\site-packages\\ipykernel_launcher.py:29: RuntimeWarning: invalid value encountered in double_scalars\n",
      "D:\\Programs\\Jupyter\\lib\\site-packages\\ipykernel_launcher.py:31: RuntimeWarning: invalid value encountered in double_scalars\n"
     ]
    },
    {
     "ename": "KeyboardInterrupt",
     "evalue": "",
     "output_type": "error",
     "traceback": [
      "\u001b[1;31m---------------------------------------------------------------------------\u001b[0m",
      "\u001b[1;31mKeyboardInterrupt\u001b[0m                         Traceback (most recent call last)",
      "\u001b[1;32m<ipython-input-19-b1767bfb3ad2>\u001b[0m in \u001b[0;36m<module>\u001b[1;34m\u001b[0m\n\u001b[0;32m     19\u001b[0m                                                        \u001b[0mx2_0\u001b[0m\u001b[1;33m,\u001b[0m \u001b[0mx2_dot_0\u001b[0m\u001b[1;33m,\u001b[0m\u001b[1;33m\u001b[0m\u001b[1;33m\u001b[0m\u001b[0m\n\u001b[0;32m     20\u001b[0m                                                        \u001b[0my1_0\u001b[0m\u001b[1;33m,\u001b[0m \u001b[0my1_dot_0\u001b[0m\u001b[1;33m,\u001b[0m\u001b[1;33m\u001b[0m\u001b[1;33m\u001b[0m\u001b[0m\n\u001b[1;32m---> 21\u001b[1;33m                                                        y2_0, y2_dot_0)\n\u001b[0m",
      "\u001b[1;32m<ipython-input-15-d73382e5072e>\u001b[0m in \u001b[0;36msolve_ode\u001b[1;34m(self, t_pts, x1_0, x1_dot_0, x2_0, x2_dot_0, y1_0, y1_dot_0, y2_0, y2_dot_0, method, abserr, relerr)\u001b[0m\n\u001b[0;32m     50\u001b[0m         solution = solve_ivp(self.dy_dt, (t_pts[0], t_pts[-1]), \n\u001b[0;32m     51\u001b[0m                              \u001b[0my\u001b[0m\u001b[1;33m,\u001b[0m \u001b[0mt_eval\u001b[0m\u001b[1;33m=\u001b[0m\u001b[0mt_pts\u001b[0m\u001b[1;33m,\u001b[0m \u001b[0mmethod\u001b[0m\u001b[1;33m=\u001b[0m\u001b[0mmethod\u001b[0m\u001b[1;33m,\u001b[0m\u001b[1;33m\u001b[0m\u001b[1;33m\u001b[0m\u001b[0m\n\u001b[1;32m---> 52\u001b[1;33m                              atol=abserr, rtol=relerr)\n\u001b[0m\u001b[0;32m     53\u001b[0m         \u001b[0mx1\u001b[0m\u001b[1;33m,\u001b[0m\u001b[0mx1_dot\u001b[0m\u001b[1;33m,\u001b[0m\u001b[0mx2\u001b[0m\u001b[1;33m,\u001b[0m\u001b[0mx2_dot\u001b[0m\u001b[1;33m,\u001b[0m\u001b[0my1\u001b[0m\u001b[1;33m,\u001b[0m\u001b[0my1_dot\u001b[0m\u001b[1;33m,\u001b[0m\u001b[0my2\u001b[0m\u001b[1;33m,\u001b[0m\u001b[0my2_dot\u001b[0m \u001b[1;33m=\u001b[0m \u001b[0msolution\u001b[0m\u001b[1;33m.\u001b[0m\u001b[0my\u001b[0m\u001b[1;33m\u001b[0m\u001b[1;33m\u001b[0m\u001b[0m\n\u001b[0;32m     54\u001b[0m         \u001b[1;32mreturn\u001b[0m \u001b[0mx1\u001b[0m\u001b[1;33m,\u001b[0m\u001b[0mx1_dot\u001b[0m\u001b[1;33m,\u001b[0m\u001b[0mx2\u001b[0m\u001b[1;33m,\u001b[0m\u001b[0mx2_dot\u001b[0m\u001b[1;33m,\u001b[0m\u001b[0my1\u001b[0m\u001b[1;33m,\u001b[0m\u001b[0my1_dot\u001b[0m\u001b[1;33m,\u001b[0m\u001b[0my2\u001b[0m\u001b[1;33m,\u001b[0m\u001b[0my2_dot\u001b[0m\u001b[1;33m\u001b[0m\u001b[1;33m\u001b[0m\u001b[0m\n",
      "\u001b[1;32mD:\\Programs\\Jupyter\\lib\\site-packages\\scipy\\integrate\\_ivp\\ivp.py\u001b[0m in \u001b[0;36msolve_ivp\u001b[1;34m(fun, t_span, y0, method, t_eval, dense_output, events, vectorized, **options)\u001b[0m\n\u001b[0;32m    500\u001b[0m     \u001b[0mstatus\u001b[0m \u001b[1;33m=\u001b[0m \u001b[1;32mNone\u001b[0m\u001b[1;33m\u001b[0m\u001b[1;33m\u001b[0m\u001b[0m\n\u001b[0;32m    501\u001b[0m     \u001b[1;32mwhile\u001b[0m \u001b[0mstatus\u001b[0m \u001b[1;32mis\u001b[0m \u001b[1;32mNone\u001b[0m\u001b[1;33m:\u001b[0m\u001b[1;33m\u001b[0m\u001b[1;33m\u001b[0m\u001b[0m\n\u001b[1;32m--> 502\u001b[1;33m         \u001b[0mmessage\u001b[0m \u001b[1;33m=\u001b[0m \u001b[0msolver\u001b[0m\u001b[1;33m.\u001b[0m\u001b[0mstep\u001b[0m\u001b[1;33m(\u001b[0m\u001b[1;33m)\u001b[0m\u001b[1;33m\u001b[0m\u001b[1;33m\u001b[0m\u001b[0m\n\u001b[0m\u001b[0;32m    503\u001b[0m \u001b[1;33m\u001b[0m\u001b[0m\n\u001b[0;32m    504\u001b[0m         \u001b[1;32mif\u001b[0m \u001b[0msolver\u001b[0m\u001b[1;33m.\u001b[0m\u001b[0mstatus\u001b[0m \u001b[1;33m==\u001b[0m \u001b[1;34m'finished'\u001b[0m\u001b[1;33m:\u001b[0m\u001b[1;33m\u001b[0m\u001b[1;33m\u001b[0m\u001b[0m\n",
      "\u001b[1;32mD:\\Programs\\Jupyter\\lib\\site-packages\\scipy\\integrate\\_ivp\\base.py\u001b[0m in \u001b[0;36mstep\u001b[1;34m(self)\u001b[0m\n\u001b[0;32m    180\u001b[0m         \u001b[1;32melse\u001b[0m\u001b[1;33m:\u001b[0m\u001b[1;33m\u001b[0m\u001b[1;33m\u001b[0m\u001b[0m\n\u001b[0;32m    181\u001b[0m             \u001b[0mt\u001b[0m \u001b[1;33m=\u001b[0m \u001b[0mself\u001b[0m\u001b[1;33m.\u001b[0m\u001b[0mt\u001b[0m\u001b[1;33m\u001b[0m\u001b[1;33m\u001b[0m\u001b[0m\n\u001b[1;32m--> 182\u001b[1;33m             \u001b[0msuccess\u001b[0m\u001b[1;33m,\u001b[0m \u001b[0mmessage\u001b[0m \u001b[1;33m=\u001b[0m \u001b[0mself\u001b[0m\u001b[1;33m.\u001b[0m\u001b[0m_step_impl\u001b[0m\u001b[1;33m(\u001b[0m\u001b[1;33m)\u001b[0m\u001b[1;33m\u001b[0m\u001b[1;33m\u001b[0m\u001b[0m\n\u001b[0m\u001b[0;32m    183\u001b[0m \u001b[1;33m\u001b[0m\u001b[0m\n\u001b[0;32m    184\u001b[0m             \u001b[1;32mif\u001b[0m \u001b[1;32mnot\u001b[0m \u001b[0msuccess\u001b[0m\u001b[1;33m:\u001b[0m\u001b[1;33m\u001b[0m\u001b[1;33m\u001b[0m\u001b[0m\n",
      "\u001b[1;32mD:\\Programs\\Jupyter\\lib\\site-packages\\scipy\\integrate\\_ivp\\rk.py\u001b[0m in \u001b[0;36m_step_impl\u001b[1;34m(self)\u001b[0m\n\u001b[0;32m    141\u001b[0m \u001b[1;33m\u001b[0m\u001b[0m\n\u001b[0;32m    142\u001b[0m             y_new, f_new, error = rk_step(self.fun, t, y, self.f, h, self.A,\n\u001b[1;32m--> 143\u001b[1;33m                                           self.B, self.C, self.E, self.K)\n\u001b[0m\u001b[0;32m    144\u001b[0m             \u001b[0mscale\u001b[0m \u001b[1;33m=\u001b[0m \u001b[0matol\u001b[0m \u001b[1;33m+\u001b[0m \u001b[0mnp\u001b[0m\u001b[1;33m.\u001b[0m\u001b[0mmaximum\u001b[0m\u001b[1;33m(\u001b[0m\u001b[0mnp\u001b[0m\u001b[1;33m.\u001b[0m\u001b[0mabs\u001b[0m\u001b[1;33m(\u001b[0m\u001b[0my\u001b[0m\u001b[1;33m)\u001b[0m\u001b[1;33m,\u001b[0m \u001b[0mnp\u001b[0m\u001b[1;33m.\u001b[0m\u001b[0mabs\u001b[0m\u001b[1;33m(\u001b[0m\u001b[0my_new\u001b[0m\u001b[1;33m)\u001b[0m\u001b[1;33m)\u001b[0m \u001b[1;33m*\u001b[0m \u001b[0mrtol\u001b[0m\u001b[1;33m\u001b[0m\u001b[1;33m\u001b[0m\u001b[0m\n\u001b[0;32m    145\u001b[0m             \u001b[0merror_norm\u001b[0m \u001b[1;33m=\u001b[0m \u001b[0mnorm\u001b[0m\u001b[1;33m(\u001b[0m\u001b[0merror\u001b[0m \u001b[1;33m/\u001b[0m \u001b[0mscale\u001b[0m\u001b[1;33m)\u001b[0m\u001b[1;33m\u001b[0m\u001b[1;33m\u001b[0m\u001b[0m\n",
      "\u001b[1;32mD:\\Programs\\Jupyter\\lib\\site-packages\\scipy\\integrate\\_ivp\\rk.py\u001b[0m in \u001b[0;36mrk_step\u001b[1;34m(fun, t, y, f, h, A, B, C, E, K)\u001b[0m\n\u001b[0;32m     67\u001b[0m     \u001b[0mK\u001b[0m\u001b[1;33m[\u001b[0m\u001b[1;36m0\u001b[0m\u001b[1;33m]\u001b[0m \u001b[1;33m=\u001b[0m \u001b[0mf\u001b[0m\u001b[1;33m\u001b[0m\u001b[1;33m\u001b[0m\u001b[0m\n\u001b[0;32m     68\u001b[0m     \u001b[1;32mfor\u001b[0m \u001b[0ms\u001b[0m\u001b[1;33m,\u001b[0m \u001b[1;33m(\u001b[0m\u001b[0ma\u001b[0m\u001b[1;33m,\u001b[0m \u001b[0mc\u001b[0m\u001b[1;33m)\u001b[0m \u001b[1;32min\u001b[0m \u001b[0menumerate\u001b[0m\u001b[1;33m(\u001b[0m\u001b[0mzip\u001b[0m\u001b[1;33m(\u001b[0m\u001b[0mA\u001b[0m\u001b[1;33m,\u001b[0m \u001b[0mC\u001b[0m\u001b[1;33m)\u001b[0m\u001b[1;33m)\u001b[0m\u001b[1;33m:\u001b[0m\u001b[1;33m\u001b[0m\u001b[1;33m\u001b[0m\u001b[0m\n\u001b[1;32m---> 69\u001b[1;33m         \u001b[0mdy\u001b[0m \u001b[1;33m=\u001b[0m \u001b[0mnp\u001b[0m\u001b[1;33m.\u001b[0m\u001b[0mdot\u001b[0m\u001b[1;33m(\u001b[0m\u001b[0mK\u001b[0m\u001b[1;33m[\u001b[0m\u001b[1;33m:\u001b[0m\u001b[0ms\u001b[0m \u001b[1;33m+\u001b[0m \u001b[1;36m1\u001b[0m\u001b[1;33m]\u001b[0m\u001b[1;33m.\u001b[0m\u001b[0mT\u001b[0m\u001b[1;33m,\u001b[0m \u001b[0ma\u001b[0m\u001b[1;33m)\u001b[0m \u001b[1;33m*\u001b[0m \u001b[0mh\u001b[0m\u001b[1;33m\u001b[0m\u001b[1;33m\u001b[0m\u001b[0m\n\u001b[0m\u001b[0;32m     70\u001b[0m         \u001b[0mK\u001b[0m\u001b[1;33m[\u001b[0m\u001b[0ms\u001b[0m \u001b[1;33m+\u001b[0m \u001b[1;36m1\u001b[0m\u001b[1;33m]\u001b[0m \u001b[1;33m=\u001b[0m \u001b[0mfun\u001b[0m\u001b[1;33m(\u001b[0m\u001b[0mt\u001b[0m \u001b[1;33m+\u001b[0m \u001b[0mc\u001b[0m \u001b[1;33m*\u001b[0m \u001b[0mh\u001b[0m\u001b[1;33m,\u001b[0m \u001b[0my\u001b[0m \u001b[1;33m+\u001b[0m \u001b[0mdy\u001b[0m\u001b[1;33m)\u001b[0m\u001b[1;33m\u001b[0m\u001b[1;33m\u001b[0m\u001b[0m\n\u001b[0;32m     71\u001b[0m \u001b[1;33m\u001b[0m\u001b[0m\n",
      "\u001b[1;31mKeyboardInterrupt\u001b[0m: "
     ]
    }
   ],
   "source": [
    "# Plotting time \n",
    "t_start = 0.\n",
    "t_end = 10.\n",
    "delta_t = 0.001\n",
    "\n",
    "t_pts = np.arange(t_start, t_end+delta_t, delta_t)  \n",
    "\n",
    "# Initial conditions\n",
    "x1_0 = 1.\n",
    "x1_dot_0 = 0.\n",
    "x2_0 = -1.\n",
    "x2_dot_0 = 0.\n",
    "y1_0 = 0.\n",
    "y1_dot_0 = 1.\n",
    "y2_0 = 0.\n",
    "y2_dot_0 = -1.\n",
    "x1,x1_dot,x2,x2_dot,y1,y1_dot,y2,y2_dot = o1.solve_ode(t_pts,\n",
    "                                                       x1_0, x1_dot_0,\n",
    "                                                       x2_0, x2_dot_0,\n",
    "                                                       y1_0, y1_dot_0,\n",
    "                                                       y2_0, y2_dot_0)"
   ]
  },
  {
   "cell_type": "code",
   "execution_count": null,
   "metadata": {},
   "outputs": [],
   "source": [
    "fig_4 = plt.figure(figsize=(8,8))\n",
    "\n",
    "overall_title = 'Orbits:  ' + \\\n",
    "                 rf' $m1 = {o1.m1},$' + \\\n",
    "                 rf' $m2 = {o1.m2},$' + \\\n",
    "                 rf' $G = {o1.G},$' + \\\n",
    "                '\\n'     # \\n means a new line (adds some space here)\n",
    "fig_4.suptitle(overall_title, va='baseline')\n",
    "\n",
    "ax_4a = fig_4.add_subplot(2,2,1)\n",
    "ax_4a.plot(t_pts, x1, color='black', label='m1')\n",
    "ax_4a.plot(t_pts, x2, color='blue', label='m2')\n",
    "ax_4a.legend()\n",
    "\n",
    "ax_4c = fig_4.add_subplot(2,2,3)\n",
    "ax_4c.plot(x1, y1, \n",
    "           color='black', label='m1')\n",
    "ax_4c.plot(x2, y2, \n",
    "           color='blue', label='m2')\n",
    "ax_4c.set_xlabel(r'$x$')\n",
    "ax_4c.set_ylabel(r'$y$')\n",
    "ax_4c.set_aspect('equal')\n",
    "ax_4c.set_title('Cartesian plot')\n",
    "ax_4c.legend()\n",
    "\n",
    "ax_4d = fig_4.add_subplot(2,2,4, polar=True)\n",
    "ax_4d.plot(t_pts, (x1**2) + (y1**2), color='black', label='m1')\n",
    "ax_4d.plot(t_pts,(x2**2) + (y2**2), color='blue', label='m2')\n",
    "ax_4d.set_title('Polar plot', pad=20.)\n",
    "ax_4d.legend()\n",
    "\n",
    "\n",
    "fig_4.tight_layout()\n",
    "fig_4.savefig('2_orbits_1.png', dpi=200, bbox_inches='tight')\n",
    "\n"
   ]
  },
  {
   "cell_type": "code",
   "execution_count": null,
   "metadata": {},
   "outputs": [],
   "source": [
    "\n"
   ]
  },
  {
   "cell_type": "code",
   "execution_count": null,
   "metadata": {},
   "outputs": [],
   "source": [
    "fig_5 = plt.figure(figsize=(6,6))\n",
    "\n",
    "overall_title = 'Orbit:  ' + \\\n",
    "                rf' $n = {o1.n},$' + \\\n",
    "                rf' $k = {o1.k:.1f},$' + \\\n",
    "                rf' $l = {o1.ang_mom:.1f},$' + \\\n",
    "                rf' $r_0 = {r_0:.1f},$' + \\\n",
    "                rf' $\\dot r_0 = {r_dot_0:.1f},$' + \\\n",
    "                rf' $\\phi_0 = {phi_0:.1f}$' + \\\n",
    "                '\\n'     # \\n means a new line (adds some space here)\n",
    "fig_5.suptitle(overall_title, va='baseline')\n",
    "\n",
    "ax_5a = fig_5.add_subplot(1,1,1)\n",
    "#ax_5a.semilogy(t_pts, np.abs(E_tot_pts), color='black', label=r'$E(t)$')\n",
    "ax_5a.semilogy(t_pts, E_tot_rel_pts, \n",
    "               color='green', label=r'$\\Delta E(t)$ RK23')\n",
    "ax_5a.semilogy(t_pts, E_tot_rel_pts_Euler, \n",
    "               color='blue', label=r'$\\Delta E(t)$ Euler')\n",
    "ax_5a.semilogy(t_pts, E_tot_rel_pts_LF, \n",
    "               color='red', label=r'$\\Delta E(t)$ Leapfrog')\n",
    "ax_5a.set_ylim(1.e-10, 1.e-2)    # (1.e-12, 5)\n",
    "ax_5a.set_xlabel(r'$t$')\n",
    "ax_5a.set_ylabel(r'Energy')\n",
    "ax_5a.set_title('Change in energy with time')\n",
    "ax_5a.legend()\n",
    "\n",
    "fig_5.tight_layout()\n",
    "fig_5.savefig('Leapfrog_energy_test_1.png', dpi=200, bbox_inches='tight')\n"
   ]
  },
  {
   "cell_type": "code",
   "execution_count": null,
   "metadata": {},
   "outputs": [],
   "source": []
  },
  {
   "cell_type": "code",
   "execution_count": null,
   "metadata": {},
   "outputs": [],
   "source": []
  }
 ],
 "metadata": {
  "kernelspec": {
   "display_name": "Python 3",
   "language": "python",
   "name": "python3"
  },
  "language_info": {
   "codemirror_mode": {
    "name": "ipython",
    "version": 3
   },
   "file_extension": ".py",
   "mimetype": "text/x-python",
   "name": "python",
   "nbconvert_exporter": "python",
   "pygments_lexer": "ipython3",
   "version": "3.7.4"
  }
 },
 "nbformat": 4,
 "nbformat_minor": 2
}
